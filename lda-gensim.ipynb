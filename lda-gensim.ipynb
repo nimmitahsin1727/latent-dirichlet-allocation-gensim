{
  "cells": [
    {
      "cell_type": "markdown",
      "metadata": {},
      "source": [
        "# LDA - Gensim\n",
        "\n",
        "Here, I'm using LDA model from gensim. "
      ]
    },
    {
      "cell_type": "markdown",
      "metadata": {
        "id": "UcOPoLTScu4V"
      },
      "source": [
        "# Importing libraries"
      ]
    },
    {
      "cell_type": "code",
      "execution_count": 2,
      "metadata": {},
      "outputs": [],
      "source": [
        "from pprint import pprint\n",
        "import pandas as pd\n",
        "from nltk import word_tokenize\n",
        "\n",
        "import gensim\n",
        "from gensim import corpora, models"
      ]
    },
    {
      "cell_type": "markdown",
      "metadata": {},
      "source": [
        "# Global Variables"
      ]
    },
    {
      "cell_type": "markdown",
      "metadata": {},
      "source": [
        "If you're in local machine, you should run this cell below:"
      ]
    },
    {
      "cell_type": "code",
      "execution_count": 3,
      "metadata": {},
      "outputs": [],
      "source": [
        "BASE_PATH = \"./\""
      ]
    },
    {
      "cell_type": "markdown",
      "metadata": {},
      "source": [
        "If you're in Google Colab, you should run this cell below:"
      ]
    },
    {
      "cell_type": "code",
      "execution_count": 3,
      "metadata": {},
      "outputs": [],
      "source": [
        "BASE_PATH = \"<ENTER YOUR DRIVE PATH>\""
      ]
    },
    {
      "cell_type": "markdown",
      "metadata": {
        "id": "9iW6IW_VNDJw"
      },
      "source": [
        "# Load Data\n",
        "Preprocessed training and testing data from \n",
        "[20-news-dataset-pre-processing](https://github.com/nimmitahsin1727/20-news-dataset-pre-processing)"
      ]
    },
    {
      "cell_type": "markdown",
      "metadata": {
        "id": "J1AubdN5uGOv"
      },
      "source": [
        "Reading TRAINING from CSV:"
      ]
    },
    {
      "cell_type": "code",
      "execution_count": 4,
      "metadata": {
        "id": "57OiI3tpuF8Y"
      },
      "outputs": [],
      "source": [
        "training_df = pd.read_csv(f'{BASE_PATH}training_df.csv') "
      ]
    },
    {
      "cell_type": "markdown",
      "metadata": {
        "id": "ebrTGRCCvGsj"
      },
      "source": [
        "Reading TESTING from CSV:"
      ]
    },
    {
      "cell_type": "code",
      "execution_count": 5,
      "metadata": {
        "id": "dMD2yGOGvJkK"
      },
      "outputs": [],
      "source": [
        "testing_df = pd.read_csv(f'{BASE_PATH}testing_df.csv') "
      ]
    },
    {
      "cell_type": "markdown",
      "metadata": {
        "id": "KCWaUQJfKSWq"
      },
      "source": [
        "Create data_words with training data"
      ]
    },
    {
      "cell_type": "code",
      "execution_count": 6,
      "metadata": {
        "id": "bX8K5yK_J6Cw"
      },
      "outputs": [],
      "source": [
        "data_words = training_df.data.map(lambda doc: word_tokenize(doc)).values.tolist()"
      ]
    },
    {
      "cell_type": "markdown",
      "metadata": {},
      "source": [
        "# Corpus Creation"
      ]
    },
    {
      "cell_type": "markdown",
      "metadata": {},
      "source": [
        "Create Dictionary"
      ]
    },
    {
      "cell_type": "code",
      "execution_count": 7,
      "metadata": {
        "id": "4DgcYMVZMafn"
      },
      "outputs": [],
      "source": [
        "id2word = corpora.Dictionary(data_words)"
      ]
    },
    {
      "cell_type": "markdown",
      "metadata": {},
      "source": [
        "Create Corpus"
      ]
    },
    {
      "cell_type": "code",
      "execution_count": 16,
      "metadata": {
        "id": "loQHOppGMV7R"
      },
      "outputs": [],
      "source": [
        "corpus = [id2word.doc2bow(doc) for doc in data_words]"
      ]
    },
    {
      "cell_type": "markdown",
      "metadata": {},
      "source": [
        "Printing some corpus information"
      ]
    },
    {
      "cell_type": "code",
      "execution_count": 17,
      "metadata": {
        "colab": {
          "base_uri": "https://localhost:8080/"
        },
        "id": "8_nHyo26MVva",
        "outputId": "917758c9-f05b-42d7-9a39-caf2a148bf2a"
      },
      "outputs": [
        {
          "name": "stdout",
          "output_type": "stream",
          "text": [
            "[(0, 1), (1, 1), (2, 1), (3, 1), (4, 1), (5, 2), (6, 2), (7, 1), (8, 1), (9, 1), (10, 1), (11, 3), (12, 1), (13, 1), (14, 9), (15, 1), (16, 1), (17, 1), (18, 1), (19, 1), (20, 1), (21, 1), (22, 1), (23, 1), (24, 1), (25, 1), (26, 1), (27, 1), (28, 1), (29, 1)]\n"
          ]
        }
      ],
      "source": [
        "print(corpus[:1][0][:30])"
      ]
    },
    {
      "cell_type": "markdown",
      "metadata": {},
      "source": [
        "# LDA"
      ]
    },
    {
      "cell_type": "markdown",
      "metadata": {},
      "source": [
        "Build LDA model"
      ]
    },
    {
      "cell_type": "code",
      "execution_count": 18,
      "metadata": {
        "colab": {
          "base_uri": "https://localhost:8080/"
        },
        "id": "aPmoO1oxQJCH",
        "outputId": "f8e90427-ae5a-45fc-c9b3-9d82014a0af1"
      },
      "outputs": [],
      "source": [
        "\n",
        "lda_model = gensim.models.LdaMulticore(corpus=corpus, id2word=id2word, num_topics=10)"
      ]
    },
    {
      "cell_type": "markdown",
      "metadata": {},
      "source": [
        "Print the Keyword in the 10 topics"
      ]
    },
    {
      "cell_type": "code",
      "execution_count": 19,
      "metadata": {},
      "outputs": [
        {
          "name": "stdout",
          "output_type": "stream",
          "text": [
            "[(0,\n",
            "  '0.009*\"line\" + 0.007*\"write\" + 0.006*\"right\" + 0.005*\"use\" + 0.004*\"make\" + '\n",
            "  '0.004*\"like\" + 0.004*\"say\" + 0.004*\"know\" + 0.004*\"point\" + 0.004*\"file\"'),\n",
            " (1,\n",
            "  '0.010*\"line\" + 0.008*\"bike\" + 0.007*\"write\" + 0.006*\"like\" + 0.005*\"file\" + '\n",
            "  '0.004*\"good\" + 0.004*\"use\" + 0.004*\"work\" + 0.004*\"know\" + 0.004*\"time\"'),\n",
            " (2,\n",
            "  '0.007*\"file\" + 0.007*\"line\" + 0.006*\"image\" + 0.006*\"write\" + 0.005*\"use\" + '\n",
            "  '0.004*\"know\" + 0.004*\"gun\" + 0.004*\"need\" + 0.003*\"just\" + 0.003*\"like\"'),\n",
            " (3,\n",
            "  '0.007*\"line\" + 0.006*\"use\" + 0.005*\"image\" + 0.005*\"bike\" + 0.005*\"write\" + '\n",
            "  '0.004*\"gun\" + 0.004*\"like\" + 0.004*\"file\" + 0.004*\"just\" + 0.003*\"make\"'),\n",
            " (4,\n",
            "  '0.008*\"gun\" + 0.007*\"line\" + 0.006*\"use\" + 0.006*\"state\" + 0.006*\"write\" + '\n",
            "  '0.005*\"right\" + 0.005*\"make\" + 0.004*\"like\" + 0.004*\"say\" + 0.004*\"good\"'),\n",
            " (5,\n",
            "  '0.008*\"gun\" + 0.007*\"line\" + 0.006*\"write\" + 0.005*\"use\" + 0.005*\"good\" + '\n",
            "  '0.004*\"point\" + 0.004*\"like\" + 0.004*\"make\" + 0.003*\"say\" + 0.003*\"state\"'),\n",
            " (6,\n",
            "  '0.008*\"use\" + 0.008*\"line\" + 0.007*\"gun\" + 0.006*\"write\" + 0.005*\"just\" + '\n",
            "  '0.005*\"like\" + 0.005*\"know\" + 0.004*\"make\" + 0.004*\"file\" + 0.004*\"image\"'),\n",
            " (7,\n",
            "  '0.012*\"line\" + 0.007*\"write\" + 0.006*\"image\" + 0.004*\"use\" + 0.004*\"make\" + '\n",
            "  '0.004*\"gun\" + 0.004*\"know\" + 0.003*\"just\" + 0.003*\"like\" + 0.003*\"file\"'),\n",
            " (8,\n",
            "  '0.009*\"write\" + 0.007*\"line\" + 0.006*\"file\" + 0.006*\"use\" + 0.005*\"know\" + '\n",
            "  '0.005*\"gun\" + 0.004*\"graphic\" + 0.003*\"state\" + 0.003*\"need\" + '\n",
            "  '0.003*\"good\"'),\n",
            " (9,\n",
            "  '0.012*\"line\" + 0.007*\"write\" + 0.007*\"gun\" + 0.005*\"use\" + 0.005*\"say\" + '\n",
            "  '0.005*\"make\" + 0.004*\"file\" + 0.004*\"like\" + 0.004*\"thing\" + 0.004*\"know\"')]\n"
          ]
        }
      ],
      "source": [
        "pprint(lda_model.print_topics())"
      ]
    },
    {
      "cell_type": "code",
      "execution_count": null,
      "metadata": {},
      "outputs": [],
      "source": []
    }
  ],
  "metadata": {
    "colab": {
      "collapsed_sections": [
        "UcOPoLTScu4V",
        "S_BBNjjzc4m5",
        "c0cAeBowGUVP"
      ],
      "provenance": []
    },
    "kernelspec": {
      "display_name": "Python 3.10.6 ('base')",
      "language": "python",
      "name": "python3"
    },
    "language_info": {
      "codemirror_mode": {
        "name": "ipython",
        "version": 3
      },
      "file_extension": ".py",
      "mimetype": "text/x-python",
      "name": "python",
      "nbconvert_exporter": "python",
      "pygments_lexer": "ipython3",
      "version": "3.10.6"
    },
    "vscode": {
      "interpreter": {
        "hash": "6787912cc06540c826098c2e9891f9672e6365160866aa38805d4b2fc3d28660"
      }
    }
  },
  "nbformat": 4,
  "nbformat_minor": 0
}
